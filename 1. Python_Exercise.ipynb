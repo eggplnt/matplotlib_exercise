{
 "cells": [
  {
   "cell_type": "code",
   "execution_count": 1,
   "metadata": {},
   "outputs": [
    {
     "name": "stdout",
     "output_type": "stream",
     "text": [
      "W: [-0.9999969] b: [ 0.99999082] loss: 5.69997e-11\n"
     ]
    }
   ],
   "source": [
    "import tensorflow as tf\n",
    "\n",
    "# Model parameters\n",
    "W = tf.Variable([.3], dtype=tf.float32)\n",
    "b = tf.Variable([-.3], dtype=tf.float32)\n",
    "# Model input and output\n",
    "x = tf.placeholder(tf.float32)\n",
    "linear_model = W * x + b\n",
    "y = tf.placeholder(tf.float32)\n",
    "\n",
    "# loss\n",
    "loss = tf.reduce_sum(tf.square(linear_model - y)) # sum of the squares\n",
    "# optimizer\n",
    "optimizer = tf.train.GradientDescentOptimizer(0.01)\n",
    "train = optimizer.minimize(loss)\n",
    "\n",
    "# training data\n",
    "x_train = [1, 2, 3, 4]\n",
    "y_train = [0, -1, -2, -3]\n",
    "# training loop\n",
    "init = tf.global_variables_initializer()\n",
    "sess = tf.Session()\n",
    "sess.run(init) # reset values to wrong\n",
    "for i in range(1000):\n",
    "  sess.run(train, {x: x_train, y: y_train})\n",
    "\n",
    "# evaluate training accuracy\n",
    "curr_W, curr_b, curr_loss = sess.run([W, b, loss], {x: x_train, y: y_train})\n",
    "print(\"W: %s b: %s loss: %s\"%(curr_W, curr_b, curr_loss))\n"
   ]
  },
  {
   "cell_type": "code",
   "execution_count": 2,
   "metadata": {
    "scrolled": true
   },
   "outputs": [
    {
     "data": {
      "image/png": "[encoded data removed]",
      "text/plain": [
       "<matplotlib.figure.Figure at 0x1187ef748>"
      ]
     },
     "metadata": {},
     "output_type": "display_data"
    }
   ],
   "source": [
    "import math\n",
    "import numpy as np\n",
    "from matplotlib import pyplot\n",
    "\n",
    "pi = math.pi   #mathモジュールのπを利用\n",
    "\n",
    "x = np.linspace(0, 2*pi, 100)  #0から2πまでの範囲を100分割したnumpy配列\n",
    "y = np.sin(x)\n",
    "\n",
    "pyplot.plot(x, y)\n",
    "pyplot.show()"
   ]
  },
  {
   "cell_type": "markdown",
   "metadata": {},
   "source": [
    "# Pythonの練習\n",
    "* ちょっとPythonの練習をしてみます\n",
    "* 各セルを実行するには、セルを選択した状態で「Shift + Enter」を押します\n",
    "* 画面上部の「Cell」プルダウンメニューからも実行できます"
   ]
  },
  {
   "cell_type": "code",
   "execution_count": 39,
   "metadata": {
    "scrolled": false
   },
   "outputs": [
    {
     "name": "stdout",
     "output_type": "stream",
     "text": [
      "こんにちは\n"
     ]
    }
   ],
   "source": [
    "print(\"こんにちは\")"
   ]
  },
  {
   "cell_type": "markdown",
   "metadata": {},
   "source": [
    "* 変数の練習"
   ]
  },
  {
   "cell_type": "code",
   "execution_count": 40,
   "metadata": {},
   "outputs": [
    {
     "name": "stdout",
     "output_type": "stream",
     "text": [
      "a =  1\n",
      "b =  2\n",
      "a + b =  3\n",
      "c =  3\n"
     ]
    }
   ],
   "source": [
    "# 変数 a に1を代入します\n",
    "a = 1\n",
    "# 変数 b に2を代入します\n",
    "b = 2\n",
    "# 変数 a の値を出力します\n",
    "print(\"a = \", a)\n",
    "print(\"b = \", b)\n",
    "# 変数 a と b を加算した値を出力します\n",
    "print(\"a + b = \", a+b)\n",
    "#　変数cに a+b　を代入します\n",
    "c = a + b\n",
    "#　変数 c の値を出力します\n",
    "print(\"c = \", c)"
   ]
  },
  {
   "cell_type": "code",
   "execution_count": null,
   "metadata": {
    "collapsed": true
   },
   "outputs": [],
   "source": [
    "* 条件分岐の練習"
   ]
  },
  {
   "cell_type": "code",
   "execution_count": 41,
   "metadata": {},
   "outputs": [
    {
     "name": "stdout",
     "output_type": "stream",
     "text": [
      "False\n"
     ]
    }
   ],
   "source": [
    "a = 1\n",
    "b = 2\n",
    "# 「==」　で両辺の値が等しいかを確認します\n",
    "if a == b:\n",
    "    # 等しければ  「True（真）」を出力します\n",
    "    print(True)\n",
    "else:\n",
    "    # 等しくなければ  「False（偽）」を出力します\n",
    "    print(False)\n",
    "# 上記を実行後、 「」に代入する値を1に変更して再度実行（Shift+Enter）し出力を確認してみます"
   ]
  },
  {
   "cell_type": "code",
   "execution_count": null,
   "metadata": {
    "collapsed": true
   },
   "outputs": [],
   "source": [
    "* ループの練習"
   ]
  },
  {
   "cell_type": "code",
   "execution_count": 46,
   "metadata": {},
   "outputs": [
    {
     "name": "stdout",
     "output_type": "stream",
     "text": [
      "0\n",
      "0\n",
      "\n",
      "1\n",
      "1\n",
      "\n",
      "2\n",
      "4\n",
      "\n",
      "3\n",
      "9\n",
      "\n",
      "4\n",
      "16\n",
      "\n",
      "5\n",
      "25\n",
      "\n",
      "6\n",
      "36\n",
      "\n",
      "7\n",
      "49\n",
      "\n",
      "8\n",
      "64\n",
      "\n",
      "9\n",
      "81\n",
      "\n"
     ]
    }
   ],
   "source": [
    "# 「i」はループのカウンターとして１０まで変化します\n",
    "for i in range(10):\n",
    "    # iの値を出力します\n",
    "    print(i)\n",
    "    # iを二乗した値を出力します\n",
    "    print(i**2)\n",
    "    # 一行空けます\n",
    "    print()"
   ]
  },
  {
   "cell_type": "code",
   "execution_count": null,
   "metadata": {
    "collapsed": true
   },
   "outputs": [],
   "source": [
    "* 配列を使ったループの練習"
   ]
  },
  {
   "cell_type": "code",
   "execution_count": 48,
   "metadata": {},
   "outputs": [
    {
     "name": "stdout",
     "output_type": "stream",
     "text": [
      "Sunday\n",
      "Monday\n",
      "Tuesday\n",
      "Wednesdayl\n",
      "Thursday\n",
      "Friday\n",
      "Saturday\n"
     ]
    }
   ],
   "source": [
    "# 配列を使って、複数の項目を[]で囲い「,」で区切って扱います\n",
    "week = ['Sunday', 'Monday', 'Tuesday', 'Wednesdayl', 'Thursday', 'Friday', 'Saturday']\n",
    "# 配列weekの各要素を順に変数「day」に代入していきます\n",
    "for day in week:\n",
    "    # dayの値を出力します\n",
    "    print(day)"
   ]
  },
  {
   "cell_type": "code",
   "execution_count": 21,
   "metadata": {},
   "outputs": [
    {
     "name": "stdout",
     "output_type": "stream",
     "text": [
      "W: [-0.9999969] b: [ 0.99999082] loss: 5.69997e-11\n"
     ]
    },
    {
     "data": {
      "image/png": "[encoded data removed]",
      "text/plain": [
       "<matplotlib.figure.Figure at 0x119751f60>"
      ]
     },
     "metadata": {},
     "output_type": "display_data"
    }
   ],
   "source": [
    "\n",
    "\n",
    "#　ためし\n",
    "\n",
    "import tensorflow as tf\n",
    "import math\n",
    "import numpy as np\n",
    "from matplotlib import pyplot\n",
    "\n",
    "# Model parameters\n",
    "W = tf.Variable([.3], dtype=tf.float32)\n",
    "b = tf.Variable([-.3], dtype=tf.float32)\n",
    "# Model input and output\n",
    "x = tf.placeholder(tf.float32)\n",
    "linear_model = W * x + b\n",
    "y = tf.placeholder(tf.float32)\n",
    "\n",
    "# loss\n",
    "loss = tf.reduce_sum(tf.square(linear_model - y)) # sum of the squares\n",
    "# optimizer\n",
    "optimizer = tf.train.GradientDescentOptimizer(0.01)\n",
    "train = optimizer.minimize(loss)\n",
    "\n",
    "# training data\n",
    "x_corr = [1, 2, 3, 4]\n",
    "y_corr = [0, -1, -2, -3]\n",
    "\n",
    "\n",
    "x_train = [1, 2, 3, 4]\n",
    "y_train = [0, -1, -2,  -3]\n",
    "# training loop\n",
    "init = tf.global_variables_initializer()\n",
    "sess = tf.Session()\n",
    "sess.run(init) # reset values to wrong\n",
    "for i in range(1000):\n",
    "  sess.run(train, {x: x_train, y: y_train})\n",
    "\n",
    "# evaluate training accuracy\n",
    "curr_W, curr_b, curr_loss = sess.run([W, b, loss], {x: x_train, y: y_train})\n",
    "print(\"W: %s b: %s loss: %s\"%(curr_W, curr_b, curr_loss))\n",
    "\n",
    "# x = np.linspace(0, 2*pi, 100)  #0から2πまでの範囲を100分割したnumpy配列\n",
    "# y = np.sin(x)\n",
    "\n",
    "px = np.linspace(0,3,4)  # xの値域(0, 1, 2, 3)\n",
    "\n",
    "py = curr_W * px + curr_b\n",
    "\n",
    "#グラフタイトル\n",
    "pyplot.title('machine learning')\n",
    "\n",
    "#グラフの軸\n",
    "pyplot.xlabel('X-Axis')\n",
    "pyplot.ylabel('Y-Axis')\n",
    "\n",
    "\n",
    "pyplot.plot(px, py, label='learned')\n",
    "pyplot.plot(x_corr, y_corr, label='answer')\n",
    "pyplot.legend()\n",
    "pyplot.show()\n",
    "\n"
   ]
  },
  {
   "cell_type": "code",
   "execution_count": null,
   "metadata": {
    "collapsed": true
   },
   "outputs": [],
   "source": []
  }
 ],
 "metadata": {
  "kernelspec": {
   "display_name": "Python 3",
   "language": "python",
   "name": "python3"
  },
  "language_info": {
   "codemirror_mode": {
    "name": "ipython",
    "version": 3
   },
   "file_extension": ".py",
   "mimetype": "text/x-python",
   "name": "python",
   "nbconvert_exporter": "python",
   "pygments_lexer": "ipython3",
   "version": "3.6.2"
  }
 },
 "nbformat": 4,
 "nbformat_minor": 2
}
